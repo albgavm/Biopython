{
 "cells": [
  {
   "cell_type": "code",
   "execution_count": 20,
   "outputs": [],
   "source": [
    "codonlist = [[\"u\",\"u\",\"g\"],[\"u\",\"c\",'g'],[\"u\",'c','t']]\n",
    "\n",
    "dna = [\"a\",\"u\",\"g\",\"u\",\"c\",'g',\"u\",'c','t','a']\n",
    "codon = []"
   ],
   "metadata": {
    "collapsed": false,
    "pycharm": {
     "name": "#%%\n",
     "is_executing": false
    }
   }
  },
  {
   "cell_type": "code",
   "execution_count": 21,
   "outputs": [
    {
     "name": "stdout",
     "text": [
      "3\n"
     ],
     "output_type": "stream"
    }
   ],
   "source": [
    "length = len(dna)\n",
    "codon_number = (length // 3)\n",
    "print(codon_number)"
   ],
   "metadata": {
    "collapsed": false,
    "pycharm": {
     "name": "#%%\n",
     "is_executing": false
    }
   }
  },
  {
   "cell_type": "code",
   "execution_count": 22,
   "outputs": [
    {
     "name": "stdout",
     "text": [
      "[[], [], []]\n"
     ],
     "output_type": "stream"
    }
   ],
   "source": [
    "#making a blank nested list with number of lists as Codon number\n",
    "#codon_counter acts as the index\n",
    "dna_index = 0\n",
    "codon_counter = 0\n",
    "\n",
    "while codon_counter != codon_number:\n",
    "    codon_counter = codon_counter + 1\n",
    "    codon.append([]) #appends blank nested lists depending on the length of codon\n",
    "print(codon)"
   ],
   "metadata": {
    "collapsed": false,
    "pycharm": {
     "name": "#%%\n",
     "is_executing": false
    }
   }
  },
  {
   "cell_type": "code",
   "execution_count": 23,
   "outputs": [
    {
     "name": "stdout",
     "text": [
      "[['a', 'u', 'g'], ['u', 'c', 'g'], ['u', 'c', 't']]\n"
     ],
     "output_type": "stream"
    }
   ],
   "source": [
    "#makes the codon list\n",
    "for empty_codon in codon:\n",
    "    empty_codon.append(dna[dna_index])\n",
    "    empty_codon.append(dna[dna_index+1])\n",
    "    empty_codon.append(dna[dna_index+2])\n",
    "    dna_index = dna_index + 3\n",
    "\n",
    "print(codon)"
   ],
   "metadata": {
    "collapsed": false,
    "pycharm": {
     "name": "#%%\n",
     "is_executing": false
    }
   }
  },
  {
   "cell_type": "code",
   "execution_count": 11,
   "outputs": [],
   "source": [
    "#testing translation\n",
    "codonvar = [['a','a','a'],['a','a','t'], ['a','a','g'], ['a','a','c']]\n",
    "protein = []\n",
    "\n",
    "for first_index, codon_list in enumerate(codonvar):\n",
    "    \n",
    "    if codon_list[0] == \"a\":\n",
    "        if codon_list[1] == \"a\":\n",
    "            if codon_list[2] == \"a\":\n",
    "                protein.append(\"k\")\n",
    "        \n",
    "            elif codon_list[2] == \"t\":\n",
    "                protein.append(\"n\")\n",
    "            elif codon_list[2] == \"g\":\n",
    "                protein.append(\"k\")  \n",
    "            elif codon_list[2] == \"c\":\n",
    "                protein.append(\"n\")\n",
    "        \n",
    "print(protein)\n",
    "\n",
    "\n"
   ],
   "metadata": {
    "collapsed": false,
    "pycharm": {
     "name": "#%%\n",
     "is_executing": false
    }
   }
  },
  {
   "cell_type": "code",
   "execution_count": null,
   "outputs": [],
   "source": [
    "remainder_codon = length % 3 \n",
    "\n",
    "if remainder_codon != 0:\n",
    "    print(\"sequence read not divisible by codon\")\n",
    "\n",
    "\n",
    "    \n"
   ],
   "metadata": {
    "collapsed": false,
    "pycharm": {
     "name": "#%%\n"
    }
   }
  }
 ],
 "metadata": {
  "kernelspec": {
   "display_name": "Python 3",
   "language": "python",
   "name": "python3"
  },
  "language_info": {
   "codemirror_mode": {
    "name": "ipython",
    "version": 2
   },
   "file_extension": ".py",
   "mimetype": "text/x-python",
   "name": "python",
   "nbconvert_exporter": "python",
   "pygments_lexer": "ipython2",
   "version": "2.7.6"
  },
  "pycharm": {
   "stem_cell": {
    "cell_type": "raw",
    "source": [],
    "metadata": {
     "collapsed": false
    }
   }
  }
 },
 "nbformat": 4,
 "nbformat_minor": 0
}