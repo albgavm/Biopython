{
 "cells": [
  {
   "cell_type": "code",
   "execution_count": 4,
   "metadata": {
    "collapsed": true,
    "pycharm": {
     "is_executing": false
    }
   },
   "outputs": [],
   "source": [
    "string = (\"aacgg\")"
   ]
  },
  {
   "cell_type": "code",
   "execution_count": 5,
   "outputs": [],
   "source": [
    "#convert to Ordered List\n",
    "def makelist(x):\n",
    "    return [char for char in x]"
   ],
   "metadata": {
    "collapsed": false,
    "pycharm": {
     "name": "#%%\n",
     "is_executing": false
    }
   }
  },
  {
   "cell_type": "code",
   "execution_count": 26,
   "outputs": [],
   "source": [
    "list = makelist(string)"
   ],
   "metadata": {
    "collapsed": false,
    "pycharm": {
     "name": "#%%\n",
     "is_executing": false
    }
   }
  },
  {
   "cell_type": "code",
   "execution_count": 24,
   "outputs": [],
   "source": [
    "def transcribe(x):\n",
    "    for index, na in enumerate(x):\n",
    "        if na == \"a\":\n",
    "            x[index] = \"u\"\n",
    "        elif na == \"A\":\n",
    "            x[index] = \"U\"\n"
   ],
   "metadata": {
    "collapsed": false,
    "pycharm": {
     "name": "#%%\n",
     "is_executing": false
    }
   }
  },
  {
   "cell_type": "code",
   "execution_count": 28,
   "outputs": [
    {
     "name": "stdout",
     "text": [
      "None\n"
     ],
     "output_type": "stream"
    }
   ],
   "source": [
    "print(transcribe(list))"
   ],
   "metadata": {
    "collapsed": false,
    "pycharm": {
     "name": "#%%\n",
     "is_executing": false
    }
   }
  },
  {
   "cell_type": "code",
   "execution_count": 14,
   "outputs": [],
   "source": [
    "class dna():\n",
    "\n",
    "    def __init__(self, seq):\n",
    "        \n",
    "        str(seq)\n",
    "        self.seq = list(seq.lower())\n",
    "        self.protein = []\n",
    "        self.compliment = []\n",
    "        \n",
    "    def showlist(self):\n",
    "        print(self.seq)\n",
    "    \n",
    "    def translate(self):\n",
    "        \n",
    "        for index, na in enumerate(self.seq):\n",
    "            \n",
    "           if self.seq[index] == \"a\":\n",
    "            \n",
    "                if self.seq[index + 1] ==\"a\":\n",
    "                    if self.seq[index + 2]==\"a\":\n",
    "                        \n",
    "                        self.protein.append(\"k\")\n",
    "                        \n",
    "                    elif self.seq[index + 2]==\"t\":\n",
    "                        self.protein.append(\"n\")\n",
    "                        \n",
    "                    elif self.seq[index + 2]==\"g\":\n",
    "                        self.protein.append(\"k\")\n",
    "                        \n",
    "                    elif self.seq[index + 2]== \"c\":\n",
    "                        self.protein.append(\"n\")\n",
    "        \n",
    "                if self.seq[index + 1] ==\"t\":\n",
    "        \n",
    "                    if self.seq[index + 2]==\"a\":\n",
    "                        self.protein.append(\"i\")\n",
    "                        \n",
    "                    elif self.seq[index + 2]==\"t\":\n",
    "                        self.protein.append(\"i\")\n",
    "                        \n",
    "                    elif self.seq[index + 2]==\"g\":\n",
    "                        self.protein.append(\"m-str\")\n",
    "                        \n",
    "                    elif self.seq[index + 2] == \"c\":\n",
    "                        self.protein.append(\"i\")\n",
    "                    \n",
    "    def showprotein(self):\n",
    "        print(self.protein)\n",
    "    "
   ],
   "metadata": {
    "collapsed": false,
    "pycharm": {
     "name": "#%%\n",
     "is_executing": false
    }
   }
  },
  {
   "cell_type": "code",
   "execution_count": 16,
   "outputs": [
    {
     "name": "stdout",
     "text": [
      "[]\n"
     ],
     "output_type": "stream"
    }
   ],
   "source": [
    "list3 = dna(\"aaa\")\n",
    "list3.showprotein()\n",
    "\n",
    "\n",
    "\n"
   ],
   "metadata": {
    "collapsed": false,
    "pycharm": {
     "name": "#%%\n",
     "is_executing": false
    }
   }
  },
  {
   "cell_type": "code",
   "execution_count": 10,
   "outputs": [],
   "source": [
    "protein = [\"i\",\"a\",\"y\"]\n",
    "\n",
    "protein.append(\"i\")\n",
    "\n"
   ],
   "metadata": {
    "collapsed": false,
    "pycharm": {
     "name": "#%%\n",
     "is_executing": false
    }
   }
  }
 ],
 "metadata": {
  "kernelspec": {
   "display_name": "Python 3",
   "language": "python",
   "name": "python3"
  },
  "language_info": {
   "codemirror_mode": {
    "name": "ipython",
    "version": 2
   },
   "file_extension": ".py",
   "mimetype": "text/x-python",
   "name": "python",
   "nbconvert_exporter": "python",
   "pygments_lexer": "ipython2",
   "version": "2.7.6"
  },
  "pycharm": {
   "stem_cell": {
    "cell_type": "raw",
    "source": [],
    "metadata": {
     "collapsed": false
    }
   }
  }
 },
 "nbformat": 4,
 "nbformat_minor": 0
}